{
  "nbformat": 4,
  "nbformat_minor": 0,
  "metadata": {
    "colab": {
      "name": "Mouse     Brain Network.ipynb",
      "provenance": [],
      "toc_visible": true
    },
    "kernelspec": {
      "name": "python3",
      "display_name": "Python 3"
    }
  },
  "cells": [
    {
      "cell_type": "code",
      "metadata": {
        "id": "a0cIWJ0Q6uwN",
        "outputId": "0dfc95a7-1a6b-42e5-8269-be5614d9f63d",
        "colab": {
          "base_uri": "https://localhost:8080/"
        }
      },
      "source": [
        "import networkx as nx\n",
        "import numpy as np\n",
        "from statsmodels.distributions.empirical_distribution import ECDF\n",
        "import matplotlib.pyplot as plt\n",
        "from scipy.stats import poisson"
      ],
      "execution_count": null,
      "outputs": [
        {
          "output_type": "stream",
          "text": [
            "/usr/local/lib/python3.6/dist-packages/statsmodels/tools/_testing.py:19: FutureWarning: pandas.util.testing is deprecated. Use the functions in the public API at pandas.testing instead.\n",
            "  import pandas.util.testing as tm\n"
          ],
          "name": "stderr"
        }
      ]
    },
    {
      "cell_type": "code",
      "metadata": {
        "id": "tMovcnBp7D1w"
      },
      "source": [
        "brain = nx.read_edgelist(\"/content/bn-mouse-kasthuri_graph_v4.edges\")"
      ],
      "execution_count": null,
      "outputs": []
    },
    {
      "cell_type": "markdown",
      "metadata": {
        "id": "F6cte6D-7ir1"
      },
      "source": [
        "## Numero di nodi e archi\n",
        "\n",
        "\n"
      ]
    },
    {
      "cell_type": "code",
      "metadata": {
        "id": "ATA9HKRG7mUO",
        "outputId": "0cb65d86-28db-43f0-865a-797e13302fe1",
        "colab": {
          "base_uri": "https://localhost:8080/"
        }
      },
      "source": [
        "len(brain.nodes)"
      ],
      "execution_count": null,
      "outputs": [
        {
          "output_type": "execute_result",
          "data": {
            "text/plain": [
              "1029"
            ]
          },
          "metadata": {
            "tags": []
          },
          "execution_count": 3
        }
      ]
    },
    {
      "cell_type": "code",
      "metadata": {
        "id": "tG-EhQX87qpd",
        "outputId": "349c38d0-1021-4b6e-98f2-0fd014326e5b",
        "colab": {
          "base_uri": "https://localhost:8080/"
        }
      },
      "source": [
        "len(brain.edges)"
      ],
      "execution_count": null,
      "outputs": [
        {
          "output_type": "execute_result",
          "data": {
            "text/plain": [
              "1559"
            ]
          },
          "metadata": {
            "tags": []
          },
          "execution_count": 4
        }
      ]
    },
    {
      "cell_type": "markdown",
      "metadata": {
        "id": "PGl_ORDB8CT4"
      },
      "source": [
        "## Density"
      ]
    },
    {
      "cell_type": "code",
      "metadata": {
        "id": "2s6cge7F7zrg",
        "outputId": "661c70c6-4d33-4cc4-a060-d30f88111e30",
        "colab": {
          "base_uri": "https://localhost:8080/"
        }
      },
      "source": [
        "density = nx.density(brain)\n",
        "density"
      ],
      "execution_count": null,
      "outputs": [
        {
          "output_type": "execute_result",
          "data": {
            "text/plain": [
              "0.0029475937123042656"
            ]
          },
          "metadata": {
            "tags": []
          },
          "execution_count": 5
        }
      ]
    },
    {
      "cell_type": "markdown",
      "metadata": {
        "id": "EGDrUq6q8J6e"
      },
      "source": [
        "Non è sparsa quanto un social network ma è molto sparsa."
      ]
    },
    {
      "cell_type": "markdown",
      "metadata": {
        "id": "_cEJ_VP6zw0C"
      },
      "source": [
        "# Degree Distribution"
      ]
    },
    {
      "cell_type": "markdown",
      "metadata": {
        "id": "KggMOlpQz3pB"
      },
      "source": [
        "Vediamo media, mediana, deviazione standard, range interquartile, minimo e massimo"
      ]
    },
    {
      "cell_type": "markdown",
      "metadata": {
        "id": "h2hLXxiY0V4-"
      },
      "source": [
        "Recuperiamo i gradi"
      ]
    },
    {
      "cell_type": "code",
      "metadata": {
        "id": "mCUB1d0Zz4Nb"
      },
      "source": [
        "degrees = list(dict(brain.degree()).values())"
      ],
      "execution_count": null,
      "outputs": []
    },
    {
      "cell_type": "code",
      "metadata": {
        "id": "uCqwqNBB1YSM",
        "outputId": "1c1b0e6b-4ce0-4083-8a55-b4dc4255355b",
        "colab": {
          "base_uri": "https://localhost:8080/"
        }
      },
      "source": [
        "print('Mean degree: \\t​​​​'+ str(np.mean(degrees)))\n",
        "print('Standard deviation: ​​​​' + str(np.std(degrees)))\n",
        "print('Median: ' + str(np.median(degrees)))\n",
        "print('iqr: ' + str(np.quantile(degrees, 0.75) - np.quantile(degrees, 0.25)))\n",
        "print('Min: ​​​​' + str(np.min(degrees)))\n",
        "print('Max: ​​​​' + str(np.max(degrees)))\n"
      ],
      "execution_count": null,
      "outputs": [
        {
          "output_type": "stream",
          "text": [
            "Mean degree: \t​​​​3.0301263362487854\n",
            "Standard deviation: ​​​​6.286646968804228\n",
            "Median: 2.0\n",
            "iqr: 2.0\n",
            "Min: ​​​​1\n",
            "Max: ​​​​123\n"
          ],
          "name": "stdout"
        }
      ]
    },
    {
      "cell_type": "markdown",
      "metadata": {
        "id": "f3wn9jOH3Dcb"
      },
      "source": [
        "Nelle reti scale free la media è molto più alta della mediana (influencers) invece  qua sono vicine ma non coincidono quindi già abbiamo un dubbio che sia broad scale"
      ]
    },
    {
      "cell_type": "markdown",
      "metadata": {
        "id": "KJ32db-23eKG"
      },
      "source": [
        "Cosa stampiamo? Normalmente la fuzione di massa probabilità ma attenti agli influencer. Se ci sono non riesce a catturare l'intero range dei valori. Allora sicuro usiamo le scale logaritmica. MA se stampiamo l'ecdf complementare. se la curva è ripida la distribuzione è poisson, se alla fine Pareto se in mezzo broad scale. Stampiamo entrambe."
      ]
    },
    {
      "cell_type": "markdown",
      "metadata": {
        "id": "kAn1RCPg4CQo"
      },
      "source": [
        "Facciamo i random graph equivalente del cervello di sto topo che avrà distribuzione dei single scale (grafo di Herdos-Reini)\n",
        "\n",
        "\n"
      ]
    },
    {
      "cell_type": "code",
      "metadata": {
        "id": "b2Q7aOBj27MF",
        "outputId": "76e688d8-fe14-4ad7-97d1-b5f19b15d4b1",
        "colab": {
          "base_uri": "https://localhost:8080/"
        }
      },
      "source": [
        "random_graph_herdos = nx.fast_gnp_random_graph(len(brain.nodes), nx.density(brain))\n",
        "len(random_graph_herdos.nodes), len(random_graph_herdos.edges)"
      ],
      "execution_count": null,
      "outputs": [
        {
          "output_type": "execute_result",
          "data": {
            "text/plain": [
              "(1029, 1566)"
            ]
          },
          "metadata": {
            "tags": []
          },
          "execution_count": 8
        }
      ]
    },
    {
      "cell_type": "markdown",
      "metadata": {
        "id": "AqKkHh_X5rcI"
      },
      "source": [
        "Si avvicina molto, un po' meno di archi. Plottiamo ste cazzo di distrubizioni pdio ma prima il deegree...."
      ]
    },
    {
      "cell_type": "code",
      "metadata": {
        "id": "3x-gZKE35jMJ"
      },
      "source": [
        "random_degrees = list(dict(random_graph_herdos.degree()).values())"
      ],
      "execution_count": null,
      "outputs": []
    },
    {
      "cell_type": "code",
      "metadata": {
        "id": "RTx8_Yis5goH",
        "outputId": "907dcc20-ee12-4fc7-878a-b298c482b50e",
        "colab": {
          "base_uri": "https://localhost:8080/",
          "height": 309
        }
      },
      "source": [
        "cdf = ECDF(degrees)\n",
        "x = np.unique(degrees)\n",
        "y = cdf(x)\n",
        "\n",
        "cdf_random = ECDF(random_degrees)\n",
        "x_random = np.unique(random_degrees)\n",
        "y_random = cdf_random(x_random)\n",
        " \n",
        "fig_cdf_fb = plt.figure(figsize=(8,4))\n",
        "axes = fig_cdf_fb.gca()\n",
        "axes.set_xscale('log')\n",
        "axes.set_yscale('log')\n",
        "axes.loglog(x,1-y,marker='o',ms=8, linestyle='--')\n",
        "axes.loglog(x_random,1-y_random,marker='+',ms=10, linestyle='--')\n",
        "axes.set_xlabel('Degree',size=20)\n",
        "axes.set_ylabel('ECCDF', size = 20)"
      ],
      "execution_count": null,
      "outputs": [
        {
          "output_type": "execute_result",
          "data": {
            "text/plain": [
              "Text(0, 0.5, 'ECCDF')"
            ]
          },
          "metadata": {
            "tags": []
          },
          "execution_count": 10
        },
        {
          "output_type": "display_data",
          "data": {
            "image/png": "[encoded data removed]",
            "text/plain": [
              "<Figure size 576x288 with 1 Axes>"
            ]
          },
          "metadata": {
            "tags": [],
            "needs_background": "light"
          }
        }
      ]
    },
    {
      "cell_type": "markdown",
      "metadata": {
        "id": "oH9GKOKx6T1K"
      },
      "source": [
        "Quello random è arancione. Il cervello del topo quello blu. Quello arancione segue la distribuzione di poisson e non riesce a catturare i piccoli influencer che ci sono nel grafo, mentre l'altra scende meno velocemente e evidenzia la presenza di piccoli influencer di grado 100 (forse solo 1)"
      ]
    },
    {
      "cell_type": "markdown",
      "metadata": {
        "id": "KLyxiU3G6xSl"
      },
      "source": [
        "Ma pare pareto? Non mi pare. Tò, mon sembra che siamo negli ordini della grandezza della scale free. Quindi una broad scale"
      ]
    },
    {
      "cell_type": "markdown",
      "metadata": {
        "id": "nHNX_kip7kw2"
      },
      "source": [
        "Per i bro fan di san tommaso, plottiamo l'ecdf una Poissoniana di parametro media della random e l'ecdf della random."
      ]
    },
    {
      "cell_type": "code",
      "metadata": {
        "id": "gXADqUu524MW",
        "outputId": "ba001885-8116-462c-e9b4-3f3df4c3e804",
        "colab": {
          "base_uri": "https://localhost:8080/",
          "height": 282
        }
      },
      "source": [
        "mu = np.mean(degrees)\n",
        "x = np.arange(poisson.ppf(0.01, mu),poisson.ppf(0.99, mu))\n",
        "prob = poisson.cdf(x, mu) \n",
        "\n",
        "mu_random = np.mean(random_degrees)\n",
        "x_random = np.arange(poisson.ppf(0.01, mu_random),poisson.ppf(0.99, mu_random))\n",
        "prob_random = poisson.cdf(x_random, mu_random) \n",
        " \n",
        "#plt.plot((x),(prob), drawstyle =  \"steps\", color='r', linewidth = 5)\n",
        "\n",
        "fig_cdf_fb = plt.figure(figsize=(8,4))\n",
        "axes = fig_cdf_fb.gca()\n",
        "#axes.set_xscale('log')\n",
        "#axes.set_yscale('log')\n",
        "axes.plot(x,prob,marker='o',ms=8, linestyle='--')\n",
        "axes.plot(x_random,prob_random,marker='+',ms=10, linestyle='dotted')\n",
        "#axes.set_xlabel('',size=20)\n",
        "axes.set_ylabel('CDF', size = 20)"
      ],
      "execution_count": 24,
      "outputs": [
        {
          "output_type": "execute_result",
          "data": {
            "text/plain": [
              "Text(0, 0.5, 'CDF')"
            ]
          },
          "metadata": {
            "tags": []
          },
          "execution_count": 24
        },
        {
          "output_type": "display_data",
          "data": {
            "image/png": "[encoded data removed]",
            "text/plain": [
              "<Figure size 576x288 with 1 Axes>"
            ]
          },
          "metadata": {
            "tags": [],
            "needs_background": "light"
          }
        }
      ]
    },
    {
      "cell_type": "markdown",
      "metadata": {
        "id": "iVU7eaRJDUtB"
      },
      "source": [
        "Sono esattamente stessa cosa, sono sovrapposte"
      ]
    },
    {
      "cell_type": "markdown",
      "metadata": {
        "id": "Bam25okQsY7X"
      },
      "source": [
        "# Connectivity"
      ]
    },
    {
      "cell_type": "markdown",
      "metadata": {
        "id": "C5_wDFeLswSP"
      },
      "source": [
        "E' un grafo connesso?"
      ]
    },
    {
      "cell_type": "code",
      "metadata": {
        "id": "MldeTaeZsod9",
        "outputId": "31cae928-b428-4a79-c500-eced715aa918",
        "colab": {
          "base_uri": "https://localhost:8080/"
        }
      },
      "source": [
        "nx.is_connected(brain)"
      ],
      "execution_count": null,
      "outputs": [
        {
          "output_type": "execute_result",
          "data": {
            "text/plain": [
              "False"
            ]
          },
          "metadata": {
            "tags": []
          },
          "execution_count": 12
        }
      ]
    },
    {
      "cell_type": "markdown",
      "metadata": {
        "id": "WSOR0mzAs1FF"
      },
      "source": [
        "C'è una giant component?"
      ]
    },
    {
      "cell_type": "code",
      "metadata": {
        "id": "srpwe1WtsYC6",
        "outputId": "4a0184fe-0ba9-45cf-9928-d1ea07562c28",
        "colab": {
          "base_uri": "https://localhost:8080/"
        }
      },
      "source": [
        "components =  nx.connected_components(brain)\n",
        "component_list = list(components)\n",
        "component_list"
      ],
      "execution_count": null,
      "outputs": [
        {
          "output_type": "execute_result",
          "data": {
            "text/plain": [
              "[{'0',\n",
              "  '1',\n",
              "  '10',\n",
              "  '100',\n",
              "  '1000',\n",
              "  '1001',\n",
              "  '1002',\n",
              "  '1003',\n",
              "  '1004',\n",
              "  '1005',\n",
              "  '1006',\n",
              "  '1007',\n",
              "  '1008',\n",
              "  '1009',\n",
              "  '101',\n",
              "  '1010',\n",
              "  '1011',\n",
              "  '1012',\n",
              "  '1013',\n",
              "  '1015',\n",
              "  '1016',\n",
              "  '1017',\n",
              "  '1018',\n",
              "  '1019',\n",
              "  '102',\n",
              "  '1020',\n",
              "  '1021',\n",
              "  '1022',\n",
              "  '1023',\n",
              "  '1024',\n",
              "  '1025',\n",
              "  '1026',\n",
              "  '1027',\n",
              "  '1028',\n",
              "  '103',\n",
              "  '104',\n",
              "  '105',\n",
              "  '106',\n",
              "  '107',\n",
              "  '108',\n",
              "  '109',\n",
              "  '11',\n",
              "  '110',\n",
              "  '111',\n",
              "  '112',\n",
              "  '113',\n",
              "  '114',\n",
              "  '115',\n",
              "  '116',\n",
              "  '117',\n",
              "  '118',\n",
              "  '119',\n",
              "  '12',\n",
              "  '120',\n",
              "  '121',\n",
              "  '122',\n",
              "  '123',\n",
              "  '124',\n",
              "  '125',\n",
              "  '126',\n",
              "  '127',\n",
              "  '128',\n",
              "  '129',\n",
              "  '13',\n",
              "  '130',\n",
              "  '131',\n",
              "  '132',\n",
              "  '133',\n",
              "  '134',\n",
              "  '135',\n",
              "  '136',\n",
              "  '137',\n",
              "  '138',\n",
              "  '139',\n",
              "  '14',\n",
              "  '140',\n",
              "  '141',\n",
              "  '142',\n",
              "  '143',\n",
              "  '144',\n",
              "  '145',\n",
              "  '146',\n",
              "  '147',\n",
              "  '148',\n",
              "  '149',\n",
              "  '15',\n",
              "  '150',\n",
              "  '151',\n",
              "  '152',\n",
              "  '153',\n",
              "  '154',\n",
              "  '155',\n",
              "  '156',\n",
              "  '157',\n",
              "  '158',\n",
              "  '159',\n",
              "  '16',\n",
              "  '160',\n",
              "  '161',\n",
              "  '162',\n",
              "  '163',\n",
              "  '164',\n",
              "  '165',\n",
              "  '166',\n",
              "  '167',\n",
              "  '168',\n",
              "  '169',\n",
              "  '17',\n",
              "  '170',\n",
              "  '171',\n",
              "  '172',\n",
              "  '173',\n",
              "  '174',\n",
              "  '175',\n",
              "  '176',\n",
              "  '177',\n",
              "  '178',\n",
              "  '179',\n",
              "  '18',\n",
              "  '180',\n",
              "  '181',\n",
              "  '182',\n",
              "  '183',\n",
              "  '184',\n",
              "  '185',\n",
              "  '186',\n",
              "  '187',\n",
              "  '188',\n",
              "  '189',\n",
              "  '19',\n",
              "  '190',\n",
              "  '191',\n",
              "  '192',\n",
              "  '193',\n",
              "  '194',\n",
              "  '195',\n",
              "  '196',\n",
              "  '197',\n",
              "  '198',\n",
              "  '199',\n",
              "  '2',\n",
              "  '20',\n",
              "  '200',\n",
              "  '201',\n",
              "  '202',\n",
              "  '203',\n",
              "  '204',\n",
              "  '205',\n",
              "  '206',\n",
              "  '207',\n",
              "  '208',\n",
              "  '209',\n",
              "  '21',\n",
              "  '210',\n",
              "  '211',\n",
              "  '212',\n",
              "  '213',\n",
              "  '214',\n",
              "  '215',\n",
              "  '216',\n",
              "  '217',\n",
              "  '218',\n",
              "  '219',\n",
              "  '22',\n",
              "  '220',\n",
              "  '221',\n",
              "  '222',\n",
              "  '223',\n",
              "  '224',\n",
              "  '225',\n",
              "  '226',\n",
              "  '227',\n",
              "  '228',\n",
              "  '229',\n",
              "  '23',\n",
              "  '230',\n",
              "  '231',\n",
              "  '232',\n",
              "  '233',\n",
              "  '234',\n",
              "  '235',\n",
              "  '236',\n",
              "  '237',\n",
              "  '238',\n",
              "  '239',\n",
              "  '24',\n",
              "  '240',\n",
              "  '241',\n",
              "  '242',\n",
              "  '243',\n",
              "  '244',\n",
              "  '245',\n",
              "  '246',\n",
              "  '247',\n",
              "  '248',\n",
              "  '249',\n",
              "  '25',\n",
              "  '250',\n",
              "  '251',\n",
              "  '252',\n",
              "  '253',\n",
              "  '254',\n",
              "  '255',\n",
              "  '256',\n",
              "  '257',\n",
              "  '258',\n",
              "  '259',\n",
              "  '26',\n",
              "  '260',\n",
              "  '261',\n",
              "  '262',\n",
              "  '263',\n",
              "  '264',\n",
              "  '265',\n",
              "  '266',\n",
              "  '267',\n",
              "  '268',\n",
              "  '269',\n",
              "  '27',\n",
              "  '270',\n",
              "  '271',\n",
              "  '272',\n",
              "  '273',\n",
              "  '274',\n",
              "  '275',\n",
              "  '276',\n",
              "  '277',\n",
              "  '278',\n",
              "  '279',\n",
              "  '28',\n",
              "  '280',\n",
              "  '281',\n",
              "  '282',\n",
              "  '283',\n",
              "  '284',\n",
              "  '285',\n",
              "  '286',\n",
              "  '287',\n",
              "  '288',\n",
              "  '289',\n",
              "  '29',\n",
              "  '290',\n",
              "  '291',\n",
              "  '292',\n",
              "  '293',\n",
              "  '294',\n",
              "  '295',\n",
              "  '296',\n",
              "  '297',\n",
              "  '298',\n",
              "  '299',\n",
              "  '3',\n",
              "  '30',\n",
              "  '300',\n",
              "  '301',\n",
              "  '302',\n",
              "  '303',\n",
              "  '304',\n",
              "  '305',\n",
              "  '306',\n",
              "  '307',\n",
              "  '308',\n",
              "  '309',\n",
              "  '31',\n",
              "  '310',\n",
              "  '311',\n",
              "  '312',\n",
              "  '313',\n",
              "  '314',\n",
              "  '315',\n",
              "  '316',\n",
              "  '317',\n",
              "  '318',\n",
              "  '319',\n",
              "  '32',\n",
              "  '320',\n",
              "  '321',\n",
              "  '322',\n",
              "  '323',\n",
              "  '324',\n",
              "  '325',\n",
              "  '326',\n",
              "  '327',\n",
              "  '328',\n",
              "  '329',\n",
              "  '33',\n",
              "  '330',\n",
              "  '331',\n",
              "  '332',\n",
              "  '333',\n",
              "  '334',\n",
              "  '335',\n",
              "  '336',\n",
              "  '337',\n",
              "  '338',\n",
              "  '339',\n",
              "  '34',\n",
              "  '340',\n",
              "  '341',\n",
              "  '342',\n",
              "  '343',\n",
              "  '344',\n",
              "  '345',\n",
              "  '346',\n",
              "  '347',\n",
              "  '348',\n",
              "  '349',\n",
              "  '35',\n",
              "  '352',\n",
              "  '353',\n",
              "  '354',\n",
              "  '355',\n",
              "  '356',\n",
              "  '357',\n",
              "  '358',\n",
              "  '359',\n",
              "  '36',\n",
              "  '360',\n",
              "  '361',\n",
              "  '362',\n",
              "  '363',\n",
              "  '364',\n",
              "  '365',\n",
              "  '366',\n",
              "  '367',\n",
              "  '368',\n",
              "  '369',\n",
              "  '37',\n",
              "  '370',\n",
              "  '371',\n",
              "  '372',\n",
              "  '373',\n",
              "  '374',\n",
              "  '375',\n",
              "  '376',\n",
              "  '377',\n",
              "  '378',\n",
              "  '379',\n",
              "  '38',\n",
              "  '380',\n",
              "  '381',\n",
              "  '382',\n",
              "  '383',\n",
              "  '384',\n",
              "  '385',\n",
              "  '386',\n",
              "  '387',\n",
              "  '388',\n",
              "  '389',\n",
              "  '39',\n",
              "  '390',\n",
              "  '391',\n",
              "  '392',\n",
              "  '393',\n",
              "  '394',\n",
              "  '395',\n",
              "  '396',\n",
              "  '397',\n",
              "  '398',\n",
              "  '399',\n",
              "  '4',\n",
              "  '40',\n",
              "  '400',\n",
              "  '401',\n",
              "  '402',\n",
              "  '403',\n",
              "  '404',\n",
              "  '405',\n",
              "  '406',\n",
              "  '407',\n",
              "  '408',\n",
              "  '409',\n",
              "  '41',\n",
              "  '410',\n",
              "  '411',\n",
              "  '413',\n",
              "  '414',\n",
              "  '415',\n",
              "  '416',\n",
              "  '417',\n",
              "  '418',\n",
              "  '419',\n",
              "  '42',\n",
              "  '420',\n",
              "  '421',\n",
              "  '422',\n",
              "  '423',\n",
              "  '424',\n",
              "  '425',\n",
              "  '426',\n",
              "  '427',\n",
              "  '428',\n",
              "  '429',\n",
              "  '43',\n",
              "  '430',\n",
              "  '431',\n",
              "  '432',\n",
              "  '433',\n",
              "  '434',\n",
              "  '435',\n",
              "  '436',\n",
              "  '437',\n",
              "  '438',\n",
              "  '439',\n",
              "  '44',\n",
              "  '440',\n",
              "  '441',\n",
              "  '442',\n",
              "  '443',\n",
              "  '444',\n",
              "  '445',\n",
              "  '446',\n",
              "  '447',\n",
              "  '448',\n",
              "  '449',\n",
              "  '45',\n",
              "  '450',\n",
              "  '451',\n",
              "  '452',\n",
              "  '453',\n",
              "  '454',\n",
              "  '455',\n",
              "  '456',\n",
              "  '457',\n",
              "  '458',\n",
              "  '459',\n",
              "  '46',\n",
              "  '460',\n",
              "  '461',\n",
              "  '462',\n",
              "  '463',\n",
              "  '464',\n",
              "  '465',\n",
              "  '466',\n",
              "  '467',\n",
              "  '468',\n",
              "  '469',\n",
              "  '47',\n",
              "  '470',\n",
              "  '471',\n",
              "  '472',\n",
              "  '473',\n",
              "  '474',\n",
              "  '475',\n",
              "  '476',\n",
              "  '477',\n",
              "  '478',\n",
              "  '479',\n",
              "  '48',\n",
              "  '480',\n",
              "  '481',\n",
              "  '482',\n",
              "  '483',\n",
              "  '484',\n",
              "  '485',\n",
              "  '486',\n",
              "  '487',\n",
              "  '488',\n",
              "  '489',\n",
              "  '49',\n",
              "  '490',\n",
              "  '491',\n",
              "  '492',\n",
              "  '493',\n",
              "  '496',\n",
              "  '497',\n",
              "  '498',\n",
              "  '499',\n",
              "  '5',\n",
              "  '50',\n",
              "  '500',\n",
              "  '501',\n",
              "  '502',\n",
              "  '505',\n",
              "  '506',\n",
              "  '507',\n",
              "  '508',\n",
              "  '509',\n",
              "  '51',\n",
              "  '510',\n",
              "  '511',\n",
              "  '512',\n",
              "  '513',\n",
              "  '514',\n",
              "  '515',\n",
              "  '516',\n",
              "  '517',\n",
              "  '518',\n",
              "  '519',\n",
              "  '52',\n",
              "  '520',\n",
              "  '521',\n",
              "  '522',\n",
              "  '523',\n",
              "  '524',\n",
              "  '525',\n",
              "  '526',\n",
              "  '527',\n",
              "  '528',\n",
              "  '529',\n",
              "  '53',\n",
              "  '530',\n",
              "  '531',\n",
              "  '532',\n",
              "  '533',\n",
              "  '534',\n",
              "  '535',\n",
              "  '536',\n",
              "  '537',\n",
              "  '538',\n",
              "  '539',\n",
              "  '54',\n",
              "  '540',\n",
              "  '541',\n",
              "  '544',\n",
              "  '545',\n",
              "  '546',\n",
              "  '547',\n",
              "  '548',\n",
              "  '549',\n",
              "  '55',\n",
              "  '550',\n",
              "  '551',\n",
              "  '552',\n",
              "  '553',\n",
              "  '554',\n",
              "  '555',\n",
              "  '556',\n",
              "  '557',\n",
              "  '558',\n",
              "  '559',\n",
              "  '56',\n",
              "  '560',\n",
              "  '561',\n",
              "  '562',\n",
              "  '563',\n",
              "  '564',\n",
              "  '565',\n",
              "  '566',\n",
              "  '567',\n",
              "  '568',\n",
              "  '569',\n",
              "  '57',\n",
              "  '570',\n",
              "  '571',\n",
              "  '572',\n",
              "  '573',\n",
              "  '574',\n",
              "  '575',\n",
              "  '578',\n",
              "  '579',\n",
              "  '58',\n",
              "  '580',\n",
              "  '581',\n",
              "  '582',\n",
              "  '583',\n",
              "  '584',\n",
              "  '585',\n",
              "  '586',\n",
              "  '587',\n",
              "  '588',\n",
              "  '589',\n",
              "  '59',\n",
              "  '592',\n",
              "  '593',\n",
              "  '594',\n",
              "  '595',\n",
              "  '596',\n",
              "  '597',\n",
              "  '598',\n",
              "  '6',\n",
              "  '60',\n",
              "  '601',\n",
              "  '602',\n",
              "  '603',\n",
              "  '604',\n",
              "  '605',\n",
              "  '606',\n",
              "  '607',\n",
              "  '608',\n",
              "  '609',\n",
              "  '61',\n",
              "  '610',\n",
              "  '611',\n",
              "  '612',\n",
              "  '613',\n",
              "  '614',\n",
              "  '615',\n",
              "  '616',\n",
              "  '617',\n",
              "  '618',\n",
              "  '619',\n",
              "  '62',\n",
              "  '620',\n",
              "  '621',\n",
              "  '622',\n",
              "  '623',\n",
              "  '624',\n",
              "  '625',\n",
              "  '626',\n",
              "  '627',\n",
              "  '628',\n",
              "  '629',\n",
              "  '63',\n",
              "  '630',\n",
              "  '631',\n",
              "  '632',\n",
              "  '633',\n",
              "  '634',\n",
              "  '635',\n",
              "  '636',\n",
              "  '637',\n",
              "  '638',\n",
              "  '639',\n",
              "  '64',\n",
              "  '640',\n",
              "  '641',\n",
              "  '642',\n",
              "  '643',\n",
              "  '644',\n",
              "  '645',\n",
              "  '646',\n",
              "  '647',\n",
              "  '648',\n",
              "  '649',\n",
              "  '65',\n",
              "  '650',\n",
              "  '651',\n",
              "  '652',\n",
              "  '653',\n",
              "  '654',\n",
              "  '655',\n",
              "  '656',\n",
              "  '657',\n",
              "  '658',\n",
              "  '659',\n",
              "  '66',\n",
              "  '660',\n",
              "  '661',\n",
              "  '662',\n",
              "  '663',\n",
              "  '664',\n",
              "  '665',\n",
              "  '666',\n",
              "  '667',\n",
              "  '668',\n",
              "  '669',\n",
              "  '67',\n",
              "  '670',\n",
              "  '671',\n",
              "  '672',\n",
              "  '673',\n",
              "  '674',\n",
              "  '675',\n",
              "  '676',\n",
              "  '677',\n",
              "  '678',\n",
              "  '679',\n",
              "  '68',\n",
              "  '680',\n",
              "  '681',\n",
              "  '682',\n",
              "  '683',\n",
              "  '684',\n",
              "  '687',\n",
              "  '688',\n",
              "  '689',\n",
              "  '69',\n",
              "  '690',\n",
              "  '691',\n",
              "  '692',\n",
              "  '693',\n",
              "  '694',\n",
              "  '695',\n",
              "  '696',\n",
              "  '697',\n",
              "  '698',\n",
              "  '699',\n",
              "  '7',\n",
              "  '70',\n",
              "  '700',\n",
              "  '701',\n",
              "  '702',\n",
              "  '703',\n",
              "  '704',\n",
              "  '705',\n",
              "  '706',\n",
              "  '707',\n",
              "  '708',\n",
              "  '709',\n",
              "  '71',\n",
              "  '710',\n",
              "  '711',\n",
              "  '712',\n",
              "  '713',\n",
              "  '714',\n",
              "  '715',\n",
              "  '716',\n",
              "  '717',\n",
              "  '718',\n",
              "  '719',\n",
              "  '72',\n",
              "  '720',\n",
              "  '721',\n",
              "  '722',\n",
              "  '723',\n",
              "  '724',\n",
              "  '725',\n",
              "  '726',\n",
              "  '727',\n",
              "  '728',\n",
              "  '729',\n",
              "  '73',\n",
              "  '730',\n",
              "  '731',\n",
              "  '732',\n",
              "  '733',\n",
              "  '734',\n",
              "  '735',\n",
              "  '736',\n",
              "  '737',\n",
              "  '738',\n",
              "  '739',\n",
              "  '74',\n",
              "  '740',\n",
              "  '741',\n",
              "  '742',\n",
              "  '743',\n",
              "  '744',\n",
              "  '745',\n",
              "  '746',\n",
              "  '747',\n",
              "  '748',\n",
              "  '749',\n",
              "  '75',\n",
              "  '750',\n",
              "  '751',\n",
              "  '752',\n",
              "  '753',\n",
              "  '754',\n",
              "  '755',\n",
              "  '756',\n",
              "  '757',\n",
              "  '758',\n",
              "  '759',\n",
              "  '76',\n",
              "  '760',\n",
              "  '761',\n",
              "  '762',\n",
              "  '763',\n",
              "  '764',\n",
              "  '765',\n",
              "  '766',\n",
              "  '767',\n",
              "  '768',\n",
              "  '769',\n",
              "  '77',\n",
              "  '770',\n",
              "  '771',\n",
              "  '772',\n",
              "  '773',\n",
              "  '774',\n",
              "  '775',\n",
              "  '776',\n",
              "  '779',\n",
              "  '78',\n",
              "  '780',\n",
              "  '781',\n",
              "  '782',\n",
              "  '783',\n",
              "  '784',\n",
              "  '785',\n",
              "  '786',\n",
              "  '787',\n",
              "  '788',\n",
              "  '789',\n",
              "  '79',\n",
              "  '790',\n",
              "  '791',\n",
              "  '792',\n",
              "  '793',\n",
              "  '794',\n",
              "  '795',\n",
              "  '796',\n",
              "  '797',\n",
              "  '798',\n",
              "  '799',\n",
              "  '8',\n",
              "  '80',\n",
              "  '802',\n",
              "  '803',\n",
              "  '804',\n",
              "  '805',\n",
              "  '806',\n",
              "  '807',\n",
              "  '808',\n",
              "  '809',\n",
              "  '81',\n",
              "  '810',\n",
              "  '811',\n",
              "  '812',\n",
              "  '813',\n",
              "  '814',\n",
              "  '815',\n",
              "  '816',\n",
              "  '817',\n",
              "  '818',\n",
              "  '819',\n",
              "  '82',\n",
              "  '820',\n",
              "  '821',\n",
              "  '822',\n",
              "  '825',\n",
              "  '828',\n",
              "  '829',\n",
              "  '83',\n",
              "  '830',\n",
              "  '831',\n",
              "  '832',\n",
              "  '833',\n",
              "  '834',\n",
              "  '835',\n",
              "  '836',\n",
              "  '837',\n",
              "  '838',\n",
              "  '839',\n",
              "  '84',\n",
              "  '840',\n",
              "  '841',\n",
              "  '842',\n",
              "  '845',\n",
              "  '846',\n",
              "  '847',\n",
              "  '848',\n",
              "  '85',\n",
              "  '851',\n",
              "  '854',\n",
              "  '855',\n",
              "  '856',\n",
              "  '857',\n",
              "  '858',\n",
              "  '859',\n",
              "  '86',\n",
              "  '860',\n",
              "  '861',\n",
              "  '864',\n",
              "  '865',\n",
              "  '868',\n",
              "  '869',\n",
              "  '87',\n",
              "  '870',\n",
              "  '871',\n",
              "  '872',\n",
              "  '873',\n",
              "  '874',\n",
              "  '875',\n",
              "  '876',\n",
              "  '877',\n",
              "  '878',\n",
              "  '879',\n",
              "  '88',\n",
              "  '880',\n",
              "  '881',\n",
              "  '882',\n",
              "  '883',\n",
              "  '884',\n",
              "  '885',\n",
              "  '886',\n",
              "  '887',\n",
              "  '888',\n",
              "  '889',\n",
              "  '89',\n",
              "  '890',\n",
              "  '891',\n",
              "  '892',\n",
              "  '895',\n",
              "  '896',\n",
              "  '897',\n",
              "  '898',\n",
              "  '899',\n",
              "  '9',\n",
              "  '90',\n",
              "  '900',\n",
              "  '901',\n",
              "  '902',\n",
              "  '903',\n",
              "  '904',\n",
              "  '905',\n",
              "  '908',\n",
              "  '909',\n",
              "  '91',\n",
              "  '910',\n",
              "  '911',\n",
              "  '912',\n",
              "  '913',\n",
              "  '914',\n",
              "  '915',\n",
              "  '916',\n",
              "  '917',\n",
              "  '918',\n",
              "  '919',\n",
              "  '92',\n",
              "  '920',\n",
              "  '921',\n",
              "  '922',\n",
              "  '923',\n",
              "  '924',\n",
              "  '925',\n",
              "  '926',\n",
              "  '927',\n",
              "  '928',\n",
              "  '929',\n",
              "  '93',\n",
              "  '930',\n",
              "  '931',\n",
              "  '932',\n",
              "  '933',\n",
              "  '934',\n",
              "  '935',\n",
              "  '936',\n",
              "  '937',\n",
              "  '938',\n",
              "  '939',\n",
              "  '94',\n",
              "  '940',\n",
              "  '941',\n",
              "  '942',\n",
              "  '943',\n",
              "  '944',\n",
              "  '945',\n",
              "  '946',\n",
              "  '949',\n",
              "  '95',\n",
              "  '950',\n",
              "  '951',\n",
              "  '952',\n",
              "  '953',\n",
              "  '954',\n",
              "  '955',\n",
              "  '956',\n",
              "  '957',\n",
              "  '958',\n",
              "  '959',\n",
              "  '96',\n",
              "  '960',\n",
              "  '961',\n",
              "  '962',\n",
              "  '963',\n",
              "  '964',\n",
              "  '965',\n",
              "  '966',\n",
              "  '967',\n",
              "  '968',\n",
              "  '969',\n",
              "  '97',\n",
              "  '970',\n",
              "  '971',\n",
              "  '972',\n",
              "  '973',\n",
              "  '974',\n",
              "  '975',\n",
              "  '976',\n",
              "  '977',\n",
              "  '978',\n",
              "  '979',\n",
              "  '98',\n",
              "  '980',\n",
              "  '981',\n",
              "  '982',\n",
              "  '983',\n",
              "  '984',\n",
              "  '985',\n",
              "  '986',\n",
              "  '987',\n",
              "  '988',\n",
              "  '989',\n",
              "  '99',\n",
              "  '990',\n",
              "  '991',\n",
              "  '992',\n",
              "  '993',\n",
              "  '994',\n",
              "  '995',\n",
              "  '996',\n",
              "  '997',\n",
              "  '998',\n",
              "  '999'},\n",
              " {'350', '351', '412'},\n",
              " {'494', '495'},\n",
              " {'503', '504'},\n",
              " {'542', '543'},\n",
              " {'576', '577'},\n",
              " {'590', '591'},\n",
              " {'599', '600'},\n",
              " {'685', '686', '948'},\n",
              " {'1014', '777', '778', '947'},\n",
              " {'800', '801'},\n",
              " {'823', '824'},\n",
              " {'826', '827'},\n",
              " {'843', '844'},\n",
              " {'849', '850'},\n",
              " {'852', '853'},\n",
              " {'862', '863'},\n",
              " {'866', '867'},\n",
              " {'893', '894'},\n",
              " {'906', '907'}]"
            ]
          },
          "metadata": {
            "tags": []
          },
          "execution_count": 13
        }
      ]
    },
    {
      "cell_type": "markdown",
      "metadata": {
        "id": "eHYL2GrZupiH"
      },
      "source": [
        "Numero delle componenti connesse:"
      ]
    },
    {
      "cell_type": "code",
      "metadata": {
        "id": "OtrF2sGEuGjw",
        "outputId": "24f267f6-2db9-4908-e981-8098d5baa5f9",
        "colab": {
          "base_uri": "https://localhost:8080/"
        }
      },
      "source": [
        "len(component_list)"
      ],
      "execution_count": null,
      "outputs": [
        {
          "output_type": "execute_result",
          "data": {
            "text/plain": [
              "20"
            ]
          },
          "metadata": {
            "tags": []
          },
          "execution_count": 14
        }
      ]
    },
    {
      "cell_type": "code",
      "metadata": {
        "id": "9iy8WqizuohW",
        "outputId": "90734b49-fba4-44c8-f927-e507a1d748e7",
        "colab": {
          "base_uri": "https://localhost:8080/",
          "height": 316
        }
      },
      "source": [
        "sorted_components = sorted(component_list, key = lambda x : len(x), reverse=True)\n",
        "len_of_components = list ( map ( lambda x :  len(x) ,sorted_components ))\n",
        "ecdf = ECDF(len_of_components)\n",
        "plt.step(np.log(ecdf.x),ecdf.y, color = 'r', linewidth = 5)\n"
      ],
      "execution_count": null,
      "outputs": [
        {
          "output_type": "stream",
          "text": [
            "/usr/local/lib/python3.6/dist-packages/ipykernel_launcher.py:4: RuntimeWarning: invalid value encountered in log\n",
            "  after removing the cwd from sys.path.\n"
          ],
          "name": "stderr"
        },
        {
          "output_type": "execute_result",
          "data": {
            "text/plain": [
              "[<matplotlib.lines.Line2D at 0x7f094fabfb70>]"
            ]
          },
          "metadata": {
            "tags": []
          },
          "execution_count": 15
        },
        {
          "output_type": "display_data",
          "data": {
            "image/png": "[encoded data removed]",
            "text/plain": [
              "<Figure size 432x288 with 1 Axes>"
            ]
          },
          "metadata": {
            "tags": [],
            "needs_background": "light"
          }
        }
      ]
    },
    {
      "cell_type": "markdown",
      "metadata": {
        "id": "MM1V8SaXx4k4"
      },
      "source": [
        "C'è la giant component! Più dell'80%!"
      ]
    },
    {
      "cell_type": "markdown",
      "metadata": {
        "id": "LbCFXlE0yJz6"
      },
      "source": [
        "# Small World"
      ]
    },
    {
      "cell_type": "markdown",
      "metadata": {
        "id": "Ikl8VaqUyR-C"
      },
      "source": [
        "Non c'è tanto da fare dobbiamo solo calcolare il diametro. c'è il metodo yasss"
      ]
    },
    {
      "cell_type": "code",
      "metadata": {
        "id": "3RjsLEj-yXM1",
        "outputId": "3a7f26ff-2fc9-4eba-fce9-ae625d82c0e5",
        "colab": {
          "base_uri": "https://localhost:8080/"
        }
      },
      "source": [
        "giant_component=brain.subgraph(sorted_components[0])\n",
        "nx.diameter(giant_component)"
      ],
      "execution_count": null,
      "outputs": [
        {
          "output_type": "execute_result",
          "data": {
            "text/plain": [
              "12"
            ]
          },
          "metadata": {
            "tags": []
          },
          "execution_count": 16
        }
      ]
    },
    {
      "cell_type": "markdown",
      "metadata": {
        "id": "39vaFu-Wzg2Y"
      },
      "source": [
        "Ci conferma che non è proprio small world (ma è un topo!). E il cervello umano?...."
      ]
    }
  ]
}