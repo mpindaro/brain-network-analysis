{
  "nbformat": 4,
  "nbformat_minor": 0,
  "metadata": {
    "colab": {
      "name": "Mouse     Brain Network.ipynb",
      "provenance": []
    },
    "kernelspec": {
      "name": "python3",
      "display_name": "Python 3"
    }
  },
  "cells": [
    {
      "cell_type": "code",
      "metadata": {
        "id": "a0cIWJ0Q6uwN"
      },
      "source": [
        "import networkx as nx"
      ],
      "execution_count": 1,
      "outputs": []
    },
    {
      "cell_type": "code",
      "metadata": {
        "id": "tMovcnBp7D1w"
      },
      "source": [
        "brain = nx.read_edgelist(\"/content/bn-mouse-kasthuri_graph_v4.edges\")"
      ],
      "execution_count": 2,
      "outputs": []
    },
    {
      "cell_type": "markdown",
      "metadata": {
        "id": "F6cte6D-7ir1"
      },
      "source": [
        "## Numero di nodi e archi\n",
        "\n",
        "\n"
      ]
    },
    {
      "cell_type": "code",
      "metadata": {
        "id": "ATA9HKRG7mUO",
        "outputId": "780e7e84-e09a-40e8-baed-191e4e7b4968",
        "colab": {
          "base_uri": "https://localhost:8080/"
        }
      },
      "source": [
        "len(brain.nodes)"
      ],
      "execution_count": 4,
      "outputs": [
        {
          "output_type": "execute_result",
          "data": {
            "text/plain": [
              "1029"
            ]
          },
          "metadata": {
            "tags": []
          },
          "execution_count": 4
        }
      ]
    },
    {
      "cell_type": "code",
      "metadata": {
        "id": "tG-EhQX87qpd",
        "outputId": "fff7576c-478d-40ca-b969-c302df625983",
        "colab": {
          "base_uri": "https://localhost:8080/"
        }
      },
      "source": [
        "len(brain.edges)"
      ],
      "execution_count": 5,
      "outputs": [
        {
          "output_type": "execute_result",
          "data": {
            "text/plain": [
              "1559"
            ]
          },
          "metadata": {
            "tags": []
          },
          "execution_count": 5
        }
      ]
    },
    {
      "cell_type": "markdown",
      "metadata": {
        "id": "PGl_ORDB8CT4"
      },
      "source": [
        "## Density"
      ]
    },
    {
      "cell_type": "code",
      "metadata": {
        "id": "2s6cge7F7zrg",
        "outputId": "ab8441ea-9cfb-4042-fab7-e3ebdcd41b71",
        "colab": {
          "base_uri": "https://localhost:8080/"
        }
      },
      "source": [
        "density = nx.density(brain)\n",
        "density"
      ],
      "execution_count": 7,
      "outputs": [
        {
          "output_type": "execute_result",
          "data": {
            "text/plain": [
              "0.0029475937123042656"
            ]
          },
          "metadata": {
            "tags": []
          },
          "execution_count": 7
        }
      ]
    },
    {
      "cell_type": "markdown",
      "metadata": {
        "id": "EGDrUq6q8J6e"
      },
      "source": [
        "Non è sparsa quanto un social network ma è molto sparsa."
      ]
    }
  ]
}