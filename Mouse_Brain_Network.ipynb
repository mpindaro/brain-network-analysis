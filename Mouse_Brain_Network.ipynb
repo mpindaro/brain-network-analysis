{
  "nbformat": 4,
  "nbformat_minor": 0,
  "metadata": {
    "colab": {
      "name": "Mouse     Brain Network.ipynb",
      "provenance": [],
      "collapsed_sections": [
        "_cEJ_VP6zw0C"
      ],
      "toc_visible": true
    },
    "kernelspec": {
      "name": "python3",
      "display_name": "Python 3"
    }
  },
  "cells": [
    {
      "cell_type": "code",
      "metadata": {
        "id": "a0cIWJ0Q6uwN",
        "colab": {
          "base_uri": "https://localhost:8080/"
        },
        "outputId": "cd53f5b1-07f4-44d3-848f-df453a8b69bc"
      },
      "source": [
        "import networkx as nx\n",
        "import numpy as np\n",
        "from statsmodels.distributions.empirical_distribution import ECDF\n",
        "import matplotlib.pyplot as plt\n",
        "from scipy.stats import poisson"
      ],
      "execution_count": 1,
      "outputs": [
        {
          "output_type": "stream",
          "text": [
            "/usr/local/lib/python3.6/dist-packages/statsmodels/tools/_testing.py:19: FutureWarning: pandas.util.testing is deprecated. Use the functions in the public API at pandas.testing instead.\n",
            "  import pandas.util.testing as tm\n"
          ],
          "name": "stderr"
        }
      ]
    },
    {
      "cell_type": "markdown",
      "metadata": {
        "id": "N9CQ5U69NH67"
      },
      "source": [
        "Networkx è una libreria che permette di lavorare con i grafi e di svolgere analisi di rete. [Documentazione](https://networkx.org/)"
      ]
    },
    {
      "cell_type": "code",
      "metadata": {
        "id": "tMovcnBp7D1w"
      },
      "source": [
        "brain = nx.read_edgelist(\"/content/bn-mouse-kasthuri_graph_v4.edges\")"
      ],
      "execution_count": 3,
      "outputs": []
    },
    {
      "cell_type": "markdown",
      "metadata": {
        "id": "F6cte6D-7ir1"
      },
      "source": [
        "## Numero di nodi e archi\n",
        "\n",
        "\n"
      ]
    },
    {
      "cell_type": "code",
      "metadata": {
        "id": "ATA9HKRG7mUO",
        "colab": {
          "base_uri": "https://localhost:8080/"
        },
        "outputId": "79cd1180-bf6c-4687-9361-3ff0c54a6189"
      },
      "source": [
        "len(brain.nodes)"
      ],
      "execution_count": 4,
      "outputs": [
        {
          "output_type": "execute_result",
          "data": {
            "text/plain": [
              "1029"
            ]
          },
          "metadata": {
            "tags": []
          },
          "execution_count": 4
        }
      ]
    },
    {
      "cell_type": "code",
      "metadata": {
        "id": "tG-EhQX87qpd",
        "colab": {
          "base_uri": "https://localhost:8080/"
        },
        "outputId": "f676ffab-7102-43fc-f772-2fb1bbd1b15c"
      },
      "source": [
        "len(brain.edges)"
      ],
      "execution_count": 5,
      "outputs": [
        {
          "output_type": "execute_result",
          "data": {
            "text/plain": [
              "1559"
            ]
          },
          "metadata": {
            "tags": []
          },
          "execution_count": 5
        }
      ]
    },
    {
      "cell_type": "markdown",
      "metadata": {
        "id": "PGl_ORDB8CT4"
      },
      "source": [
        "## Density"
      ]
    },
    {
      "cell_type": "markdown",
      "metadata": {
        "id": "WdOk515KKVcM"
      },
      "source": [
        "Calcoliamo la densità della rete"
      ]
    },
    {
      "cell_type": "code",
      "metadata": {
        "id": "2s6cge7F7zrg",
        "colab": {
          "base_uri": "https://localhost:8080/"
        },
        "outputId": "090c0a92-f93e-4998-febb-1fea2f175303"
      },
      "source": [
        "density = nx.density(brain)\n",
        "density"
      ],
      "execution_count": 6,
      "outputs": [
        {
          "output_type": "execute_result",
          "data": {
            "text/plain": [
              "0.0029475937123042656"
            ]
          },
          "metadata": {
            "tags": []
          },
          "execution_count": 6
        }
      ]
    },
    {
      "cell_type": "markdown",
      "metadata": {
        "id": "EGDrUq6q8J6e"
      },
      "source": [
        "La rete non è sparsa quanto quella tipicamente di un social network (10<sup>-6</sup>) ma è comunque molto sparsa"
      ]
    },
    {
      "cell_type": "markdown",
      "metadata": {
        "id": "_cEJ_VP6zw0C"
      },
      "source": [
        "# 1 - Degree Distribution"
      ]
    },
    {
      "cell_type": "markdown",
      "metadata": {
        "id": "KggMOlpQz3pB"
      },
      "source": [
        " Media, mediana, deviazione standard, range interquartile, minimo e massimo sono dei buoni indici per riassumere la distribuzione."
      ]
    },
    {
      "cell_type": "code",
      "metadata": {
        "id": "mCUB1d0Zz4Nb"
      },
      "source": [
        "degrees = list(dict(brain.degree()).values())"
      ],
      "execution_count": 8,
      "outputs": []
    },
    {
      "cell_type": "code",
      "metadata": {
        "id": "uCqwqNBB1YSM",
        "colab": {
          "base_uri": "https://localhost:8080/"
        },
        "outputId": "af500186-0115-4ac3-cd80-81643611fd3d"
      },
      "source": [
        "print('Mean degree: \\t​​​​'+ str(np.mean(degrees)))\n",
        "print('Standard deviation: ​​​​' + str(np.std(degrees)))\n",
        "print('Median: ' + str(np.median(degrees)))\n",
        "print('iqr: ' + str(np.quantile(degrees, 0.75) - np.quantile(degrees, 0.25)))\n",
        "print('Min: ​​​​' + str(np.min(degrees)))\n",
        "print('Max: ​​​​' + str(np.max(degrees)))\n"
      ],
      "execution_count": 9,
      "outputs": [
        {
          "output_type": "stream",
          "text": [
            "Mean degree: \t​​​​3.0301263362487854\n",
            "Standard deviation: ​​​​6.286646968804228\n",
            "Median: 2.0\n",
            "iqr: 2.0\n",
            "Min: ​​​​1\n",
            "Max: ​​​​123\n"
          ],
          "name": "stdout"
        }
      ]
    },
    {
      "cell_type": "markdown",
      "metadata": {
        "id": "f3wn9jOH3Dcb"
      },
      "source": [
        "Nelle reti scale free la media è molto più alta della mediana per via degli hub (sono outliers). Nel nostro caso invece i due valori sono vicini ma non coincidono, il che può essere un campanello d'allarme che si tratti di una rete broad-scale."
      ]
    },
    {
      "cell_type": "markdown",
      "metadata": {
        "id": "kAn1RCPg4CQo"
      },
      "source": [
        "Costruiamo il random graph (grafo di Erdos and Renyi) relativo al brain network in analisi e che avrà la distribuzione dei single scale (binomiale - Poisson).\n",
        "\n",
        "\n"
      ]
    },
    {
      "cell_type": "code",
      "metadata": {
        "id": "b2Q7aOBj27MF",
        "colab": {
          "base_uri": "https://localhost:8080/"
        },
        "outputId": "1b5a1127-a99d-4330-912d-e9425cc7038a"
      },
      "source": [
        "random_graph_erdos = nx.fast_gnp_random_graph(len(brain.nodes), nx.density(brain))\n",
        "len(random_graph_erdos.nodes), len(random_graph_erdos.edges)"
      ],
      "execution_count": 10,
      "outputs": [
        {
          "output_type": "execute_result",
          "data": {
            "text/plain": [
              "(1029, 1603)"
            ]
          },
          "metadata": {
            "tags": []
          },
          "execution_count": 10
        }
      ]
    },
    {
      "cell_type": "code",
      "metadata": {
        "id": "3x-gZKE35jMJ"
      },
      "source": [
        "random_degrees = list(dict(random_graph_erdos.degree()).values())"
      ],
      "execution_count": 11,
      "outputs": []
    },
    {
      "cell_type": "code",
      "metadata": {
        "id": "RTx8_Yis5goH",
        "colab": {
          "base_uri": "https://localhost:8080/",
          "height": 309
        },
        "outputId": "888d0b13-17fc-4205-bc12-ea1a275ab107"
      },
      "source": [
        "cdf = ECDF(degrees)\n",
        "x = np.unique(degrees)\n",
        "y = cdf(x)\n",
        "\n",
        "cdf_random = ECDF(random_degrees)\n",
        "x_random = np.unique(random_degrees)\n",
        "y_random = cdf_random(x_random)\n",
        " \n",
        "fig_cdf_fb = plt.figure(figsize=(8,4))\n",
        "axes = fig_cdf_fb.gca()\n",
        "axes.set_xscale('log')\n",
        "axes.set_yscale('log')\n",
        "axes.loglog(x,1-y,marker='o',ms=8, linestyle='--')\n",
        "axes.loglog(x_random,1-y_random,marker='+',ms=10, linestyle='--')\n",
        "axes.set_xlabel('Degree',size=20)\n",
        "axes.set_ylabel('ECCDF', size = 20)"
      ],
      "execution_count": 12,
      "outputs": [
        {
          "output_type": "execute_result",
          "data": {
            "text/plain": [
              "Text(0, 0.5, 'ECCDF')"
            ]
          },
          "metadata": {
            "tags": []
          },
          "execution_count": 12
        },
        {
          "output_type": "display_data",
          "data": {
            "image/png": "[encoded data removed]",
            "text/plain": [
              "<Figure size 576x288 with 1 Axes>"
            ]
          },
          "metadata": {
            "tags": [],
            "needs_background": "light"
          }
        }
      ]
    },
    {
      "cell_type": "markdown",
      "metadata": {
        "id": "oH9GKOKx6T1K"
      },
      "source": [
        "La distribuzione dei gradi dei nodi del grafo random è quella stampata in arancione, mentre la distribuzione dei gradi dei nodi del brain network del topo è stampata in blu.\r\n",
        "\r\n",
        "La distribuzione del grafo random segue la distribuzione di Poisson, e non riesce a catturare i  piccoli hub del grafo, la cui presenza è evidenziata dalla distribuzione del grafo originario.\r\n"
      ]
    },
    {
      "cell_type": "markdown",
      "metadata": {
        "id": "KLyxiU3G6xSl"
      },
      "source": [
        "Ma pare pareto? Non mi pare. Gli hub anche se non sono catturati dalla poisson non distano troppo da essa, sono solo di un ordine di grandezza maggiore rispetto alla media calcolata prima. Per questo motivo non si tratta neanche di una rete scale-free ed è sensato dire che stiamo lavorando con una rete broad-scale"
      ]
    },
    {
      "cell_type": "markdown",
      "metadata": {
        "id": "NErp5KN9SlBg"
      },
      "source": [
        "Per chi si chiede come mai il plot della distribuzione sia stato fatto usando l'eccdf e la scala loglog, e non un semplice barplot, consiglio di consultare il libro *Network Science* di Barabasi sezione 4.12 argomento avanzato 3b."
      ]
    },
    {
      "cell_type": "markdown",
      "metadata": {
        "id": "nHNX_kip7kw2"
      },
      "source": [
        "Invece per chi è dubbioso che quella plottata prima sia una Poissoniana:"
      ]
    },
    {
      "cell_type": "code",
      "metadata": {
        "id": "gXADqUu524MW",
        "colab": {
          "base_uri": "https://localhost:8080/",
          "height": 282
        },
        "outputId": "6416fdc5-89c2-46a8-bbf3-bce6c51f9cee"
      },
      "source": [
        "mu = np.mean(degrees)\n",
        "x = np.arange(poisson.ppf(0.01, mu),poisson.ppf(0.99, mu))\n",
        "prob = poisson.cdf(x, mu) \n",
        "\n",
        "mu_random = np.mean(random_degrees)\n",
        "x_random = np.arange(poisson.ppf(0.01, mu_random),poisson.ppf(0.99, mu_random))\n",
        "prob_random = poisson.cdf(x_random, mu_random) \n",
        " \n",
        "\n",
        "fig_cdf_fb = plt.figure(figsize=(8,4))\n",
        "axes = fig_cdf_fb.gca()\n",
        "axes.plot(x,prob,marker='o',ms=8, linestyle='--')\n",
        "axes.plot(x_random,prob_random,marker='+',ms=10, linestyle='--')\n",
        "axes.set_ylabel('CDF', size = 20)"
      ],
      "execution_count": 14,
      "outputs": [
        {
          "output_type": "execute_result",
          "data": {
            "text/plain": [
              "Text(0, 0.5, 'CDF')"
            ]
          },
          "metadata": {
            "tags": []
          },
          "execution_count": 14
        },
        {
          "output_type": "display_data",
          "data": {
            "image/png": "[encoded data removed]",
            "text/plain": [
              "<Figure size 576x288 with 1 Axes>"
            ]
          },
          "metadata": {
            "tags": [],
            "needs_background": "light"
          }
        }
      ]
    },
    {
      "cell_type": "markdown",
      "metadata": {
        "id": "Bam25okQsY7X"
      },
      "source": [
        "# 2 - Connectivity"
      ]
    },
    {
      "cell_type": "markdown",
      "metadata": {
        "id": "C5_wDFeLswSP"
      },
      "source": [
        "E' un grafo connesso?"
      ]
    },
    {
      "cell_type": "code",
      "metadata": {
        "id": "MldeTaeZsod9",
        "colab": {
          "base_uri": "https://localhost:8080/"
        },
        "outputId": "200fff77-a948-46d7-90fd-7e6c37b73f0b"
      },
      "source": [
        "nx.is_connected(brain)"
      ],
      "execution_count": 15,
      "outputs": [
        {
          "output_type": "execute_result",
          "data": {
            "text/plain": [
              "False"
            ]
          },
          "metadata": {
            "tags": []
          },
          "execution_count": 15
        }
      ]
    },
    {
      "cell_type": "markdown",
      "metadata": {
        "id": "WSOR0mzAs1FF"
      },
      "source": [
        "## C'è una giant component?"
      ]
    },
    {
      "cell_type": "code",
      "metadata": {
        "id": "srpwe1WtsYC6"
      },
      "source": [
        "components =  nx.connected_components(brain)\n",
        "component_list = list(components)"
      ],
      "execution_count": 17,
      "outputs": []
    },
    {
      "cell_type": "markdown",
      "metadata": {
        "id": "eHYL2GrZupiH"
      },
      "source": [
        "Numero delle componenti connesse:"
      ]
    },
    {
      "cell_type": "code",
      "metadata": {
        "id": "OtrF2sGEuGjw",
        "colab": {
          "base_uri": "https://localhost:8080/"
        },
        "outputId": "644f985d-ad90-4a03-eab5-dc58b22e542b"
      },
      "source": [
        "len(component_list)"
      ],
      "execution_count": 18,
      "outputs": [
        {
          "output_type": "execute_result",
          "data": {
            "text/plain": [
              "20"
            ]
          },
          "metadata": {
            "tags": []
          },
          "execution_count": 18
        }
      ]
    },
    {
      "cell_type": "markdown",
      "metadata": {
        "id": "wlJIh7OIUPv0"
      },
      "source": [
        "Tracciamo l'ECDF della distribuzione delle size delle componenti connesse"
      ]
    },
    {
      "cell_type": "code",
      "metadata": {
        "id": "9iy8WqizuohW",
        "colab": {
          "base_uri": "https://localhost:8080/",
          "height": 316
        },
        "outputId": "5e4bc21d-8eab-4a23-fd5c-b99349bcac62"
      },
      "source": [
        "sorted_components = sorted(component_list, key = lambda x : len(x), reverse=True)\n",
        "len_of_components = list ( map ( lambda x :  len(x) ,sorted_components ))\n",
        "ecdf = ECDF(len_of_components)\n",
        "plt.step(np.log(ecdf.x),ecdf.y, color = 'r', linewidth = 5)\n"
      ],
      "execution_count": 21,
      "outputs": [
        {
          "output_type": "stream",
          "text": [
            "/usr/local/lib/python3.6/dist-packages/ipykernel_launcher.py:4: RuntimeWarning: invalid value encountered in log\n",
            "  after removing the cwd from sys.path.\n"
          ],
          "name": "stderr"
        },
        {
          "output_type": "execute_result",
          "data": {
            "text/plain": [
              "[<matplotlib.lines.Line2D at 0x7f9f29f8e518>]"
            ]
          },
          "metadata": {
            "tags": []
          },
          "execution_count": 21
        },
        {
          "output_type": "display_data",
          "data": {
            "image/png": "[encoded data removed]",
            "text/plain": [
              "<Figure size 432x288 with 1 Axes>"
            ]
          },
          "metadata": {
            "tags": [],
            "needs_background": "light"
          }
        }
      ]
    },
    {
      "cell_type": "markdown",
      "metadata": {
        "id": "0TbIoVtGUZ2o"
      },
      "source": [
        "Il grafico evidenzia la presenza di una componente connessa che contiene più dell'80% dei nodi."
      ]
    },
    {
      "cell_type": "markdown",
      "metadata": {
        "id": "LbCFXlE0yJz6"
      },
      "source": [
        "#3 - Small World"
      ]
    },
    {
      "cell_type": "markdown",
      "metadata": {
        "id": "Ikl8VaqUyR-C"
      },
      "source": [
        "Calcoliamo il diametro della giant component e non dell'intera rete perchè la distanza tra due nodi non connessi è infinito e quindi avremmo un errore sul calcolo del diametro"
      ]
    },
    {
      "cell_type": "code",
      "metadata": {
        "id": "3RjsLEj-yXM1",
        "colab": {
          "base_uri": "https://localhost:8080/"
        },
        "outputId": "d6d06750-bc34-466b-bb72-39a6478c4651"
      },
      "source": [
        "giant_component = brain.subgraph(sorted_components[0])\n",
        "nx.diameter(giant_component)"
      ],
      "execution_count": 22,
      "outputs": [
        {
          "output_type": "execute_result",
          "data": {
            "text/plain": [
              "12"
            ]
          },
          "metadata": {
            "tags": []
          },
          "execution_count": 22
        }
      ]
    },
    {
      "cell_type": "markdown",
      "metadata": {
        "id": "39vaFu-Wzg2Y"
      },
      "source": [
        "Ci conferma che non è proprio small world."
      ]
    }
  ]
}